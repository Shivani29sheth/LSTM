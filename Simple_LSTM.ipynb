{
  "nbformat": 4,
  "nbformat_minor": 0,
  "metadata": {
    "colab": {
      "name": "Simple LSTM.ipynb",
      "provenance": []
    },
    "kernelspec": {
      "name": "python3",
      "display_name": "Python 3"
    },
    "language_info": {
      "name": "python"
    },
    "accelerator": "GPU"
  },
  "cells": [
    {
      "cell_type": "code",
      "metadata": {
        "id": "u3iy5_Py0n3M",
        "colab": {
          "base_uri": "https://localhost:8080/"
        },
        "outputId": "61f0e775-10dd-4ef6-94f1-7dd61711edb1"
      },
      "source": [
        "import keras\n",
        "from keras.datasets import mnist\n",
        "\n",
        "#Importing the data\n",
        "(X_train, y_train),(X_test, y_test) = mnist.load_data() \n",
        "\n",
        "#Normalizing the data\n",
        "X_train = X_train.astype('float32') / 255.0\n",
        "X_test = X_test.astype('float32') / 255.0\n",
        "\n",
        "#Initializing model\n",
        "model = keras.models.Sequential()\n",
        "\n",
        "#Adding the model layers\n",
        "model.add(keras.layers.LSTM(128, input_shape=(X_train.shape[1:]), return_sequences=True))\n",
        "model.add(keras.layers.Dropout(0.2))\n",
        "model.add(keras.layers.LSTM(128))\n",
        "model.add(keras.layers.Dense(64, activation='relu'))\n",
        "model.add(keras.layers.Dropout(0.2))\n",
        "model.add(keras.layers.Dense(10, activation='softmax'))\n",
        "\n",
        "#Compiling the model\n",
        "model.compile( loss='sparse_categorical_crossentropy', optimizer = keras.optimizers.Adam(lr=0.001, decay=1e-6), metrics=['accuracy'] )\n",
        "\n",
        "#Fitting data to the model\n",
        "model.fit(X_train, y_train, epochs=3, validation_data=(X_test, y_test))\n",
        "\n"
      ],
      "execution_count": 1,
      "outputs": [
        {
          "output_type": "stream",
          "text": [
            "Downloading data from https://storage.googleapis.com/tensorflow/tf-keras-datasets/mnist.npz\n",
            "11493376/11490434 [==============================] - 0s 0us/step\n",
            "Epoch 1/3\n",
            "1875/1875 [==============================] - 72s 22ms/step - loss: 0.6571 - accuracy: 0.7810 - val_loss: 0.1078 - val_accuracy: 0.9673\n",
            "Epoch 2/3\n",
            "1875/1875 [==============================] - 40s 21ms/step - loss: 0.1157 - accuracy: 0.9666 - val_loss: 0.0959 - val_accuracy: 0.9715\n",
            "Epoch 3/3\n",
            "1875/1875 [==============================] - 40s 21ms/step - loss: 0.0788 - accuracy: 0.9770 - val_loss: 0.0494 - val_accuracy: 0.9849\n"
          ],
          "name": "stdout"
        },
        {
          "output_type": "execute_result",
          "data": {
            "text/plain": [
              "<tensorflow.python.keras.callbacks.History at 0x7f14104c9710>"
            ]
          },
          "metadata": {
            "tags": []
          },
          "execution_count": 1
        }
      ]
    },
    {
      "cell_type": "code",
      "metadata": {
        "colab": {
          "base_uri": "https://localhost:8080/"
        },
        "id": "OVBFXV1PRx_6",
        "outputId": "f04f9c79-5e22-4baf-bc05-741e600972f8"
      },
      "source": [
        "test_loss, test_acc = model.evaluate(X_test, y_test)\n",
        "print('Test Loss: {}'.format(test_loss))\n",
        "print('Test Accuracy: {}'.format(test_acc))"
      ],
      "execution_count": 2,
      "outputs": [
        {
          "output_type": "stream",
          "text": [
            "313/313 [==============================] - 2s 7ms/step - loss: 0.0494 - accuracy: 0.9849\n",
            "Test Loss: 0.04938504844903946\n",
            "Test Accuracy: 0.9848999977111816\n"
          ],
          "name": "stdout"
        }
      ]
    },
    {
      "cell_type": "code",
      "metadata": {
        "id": "XT-0fYzfSn36"
      },
      "source": [
        ""
      ],
      "execution_count": null,
      "outputs": []
    }
  ]
}